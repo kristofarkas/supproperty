{
 "cells": [
  {
   "cell_type": "code",
   "execution_count": 1,
   "metadata": {},
   "outputs": [],
   "source": [
    "from supproperty import supproperty"
   ]
  },
  {
   "cell_type": "code",
   "execution_count": 12,
   "metadata": {},
   "outputs": [],
   "source": [
    "class StepCounter:\n",
    "    \n",
    "    @supproperty(type=int, default=0, strict_type_check=True)\n",
    "    def total_steps(self):\n",
    "        pass\n",
    "    \n",
    "    @total_steps.will_set\n",
    "    def total_steps(self, value):\n",
    "        print(f'About to set total_step to {value}')\n",
    "    \n",
    "    @total_steps.did_set\n",
    "    def total_steps(self, old_value):\n",
    "        if self.total_steps > old_value:\n",
    "            print(f'Added {self.total_steps-old_value} steps')"
   ]
  },
  {
   "cell_type": "code",
   "execution_count": 13,
   "metadata": {},
   "outputs": [],
   "source": [
    "s = StepCounter()"
   ]
  },
  {
   "cell_type": "code",
   "execution_count": 14,
   "metadata": {},
   "outputs": [
    {
     "name": "stdout",
     "output_type": "stream",
     "text": [
      "About to set total_step to 200\n",
      "Added 200 steps\n"
     ]
    }
   ],
   "source": [
    "s.total_steps = 200"
   ]
  },
  {
   "cell_type": "code",
   "execution_count": 15,
   "metadata": {},
   "outputs": [
    {
     "name": "stdout",
     "output_type": "stream",
     "text": [
      "About to set total_step to 360\n",
      "Added 160 steps\n"
     ]
    }
   ],
   "source": [
    "s.total_steps = 360"
   ]
  },
  {
   "cell_type": "code",
   "execution_count": 16,
   "metadata": {},
   "outputs": [
    {
     "name": "stdout",
     "output_type": "stream",
     "text": [
      "About to set total_step to 896\n",
      "Added 536 steps\n"
     ]
    }
   ],
   "source": [
    "s.total_steps = 896"
   ]
  },
  {
   "cell_type": "code",
   "execution_count": 17,
   "metadata": {},
   "outputs": [
    {
     "name": "stdout",
     "output_type": "stream",
     "text": [
      "About to set total_step to None\n"
     ]
    }
   ],
   "source": [
    "s.total_steps = None"
   ]
  },
  {
   "cell_type": "code",
   "execution_count": 19,
   "metadata": {},
   "outputs": [
    {
     "name": "stdout",
     "output_type": "stream",
     "text": [
      "About to set total_step to 1\n",
      "Added 1 steps\n"
     ]
    }
   ],
   "source": [
    "s.total_steps = 1"
   ]
  },
  {
   "cell_type": "code",
   "execution_count": 20,
   "metadata": {},
   "outputs": [
    {
     "data": {
      "text/plain": [
       "1"
      ]
     },
     "execution_count": 20,
     "metadata": {},
     "output_type": "execute_result"
    }
   ],
   "source": [
    "s.total_steps"
   ]
  },
  {
   "cell_type": "code",
   "execution_count": null,
   "metadata": {},
   "outputs": [],
   "source": []
  }
 ],
 "metadata": {
  "kernelspec": {
   "display_name": "Python 3",
   "language": "python",
   "name": "python3"
  },
  "language_info": {
   "codemirror_mode": {
    "name": "ipython",
    "version": 3
   },
   "file_extension": ".py",
   "mimetype": "text/x-python",
   "name": "python",
   "nbconvert_exporter": "python",
   "pygments_lexer": "ipython3",
   "version": "3.6.5"
  }
 },
 "nbformat": 4,
 "nbformat_minor": 2
}
